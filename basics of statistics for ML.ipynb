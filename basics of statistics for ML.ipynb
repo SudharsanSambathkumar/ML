{
 "cells": [
  {
   "cell_type": "markdown",
   "id": "89f72627-643e-404c-ad80-1bf5f1ce8db8",
   "metadata": {},
   "source": [
    "## Central Tendencies:"
   ]
  },
  {
   "cell_type": "code",
   "execution_count": 31,
   "id": "a0ff018a-fa32-44b1-a4d1-75884beca7b6",
   "metadata": {},
   "outputs": [],
   "source": [
    "x=[1,2,3,4,5,6,7,8,9,10]"
   ]
  },
  {
   "cell_type": "code",
   "execution_count": 32,
   "id": "6667ef92-864b-4114-a51a-d3abc332be96",
   "metadata": {},
   "outputs": [],
   "source": [
    "# mean (or average)\n",
    "def mean(x):\n",
    "    \"\"\"finds the average of data\"\"\"\n",
    "    return sum(x)/len(x)\n",
    "    "
   ]
  },
  {
   "cell_type": "code",
   "execution_count": 33,
   "id": "7a5ad8e4-560d-4055-a26b-52e8fb813bed",
   "metadata": {},
   "outputs": [
    {
     "data": {
      "text/plain": [
       "5.5"
      ]
     },
     "execution_count": 33,
     "metadata": {},
     "output_type": "execute_result"
    }
   ],
   "source": [
    "mean(x)"
   ]
  },
  {
   "cell_type": "code",
   "execution_count": 34,
   "id": "0c11091d-10a0-48fc-b24c-08373dc82156",
   "metadata": {},
   "outputs": [],
   "source": [
    "#median\n",
    "def median(v):\n",
    " \"\"\"finds the 'middle-most' value of v\"\"\"\n",
    " n = len(v)\n",
    " sorted_v = sorted(v)\n",
    " midpoint = n // 2\n",
    " if n % 2 == 1:\n",
    "     # if odd, return the middle value\n",
    "     return sorted_v[midpoint]\n",
    " else:\n",
    "     # if even, return the average of the middle values\n",
    "     lo = midpoint - 1\n",
    "     hi = midpoint\n",
    "     return (sorted_v[lo] + sorted_v[hi]) / 2"
   ]
  },
  {
   "cell_type": "code",
   "execution_count": 35,
   "id": "7ba5cd94-917f-4ab2-b452-de9492950d31",
   "metadata": {},
   "outputs": [
    {
     "data": {
      "text/plain": [
       "5.5"
      ]
     },
     "execution_count": 35,
     "metadata": {},
     "output_type": "execute_result"
    }
   ],
   "source": [
    "median(x)"
   ]
  },
  {
   "cell_type": "code",
   "execution_count": 36,
   "id": "f7357ca3-f50f-4c3f-82c7-70ffa800a537",
   "metadata": {},
   "outputs": [],
   "source": [
    "#quantile\n",
    "def quantile(x, p):\n",
    " \"\"\"returns the pth-percentile value in x\"\"\"\n",
    " p_index = int(p * len(x))\n",
    " return sorted(x)[p_index]\n"
   ]
  },
  {
   "cell_type": "code",
   "execution_count": 37,
   "id": "c940cc9e-a176-48c8-ba4c-da8f4340aa8b",
   "metadata": {},
   "outputs": [
    {
     "data": {
      "text/plain": [
       "2"
      ]
     },
     "execution_count": 37,
     "metadata": {},
     "output_type": "execute_result"
    }
   ],
   "source": [
    "quantile(x, 0.10)"
   ]
  },
  {
   "cell_type": "code",
   "execution_count": 38,
   "id": "a5754ecb-bd3d-4d03-8fe2-aba226edcaa6",
   "metadata": {},
   "outputs": [
    {
     "data": {
      "text/plain": [
       "6"
      ]
     },
     "execution_count": 38,
     "metadata": {},
     "output_type": "execute_result"
    }
   ],
   "source": [
    "quantile(x, 0.50)"
   ]
  },
  {
   "cell_type": "code",
   "execution_count": 39,
   "id": "c1586f8b-a2b4-4300-9437-a8e7d8cb0dc8",
   "metadata": {},
   "outputs": [],
   "source": [
    "y=[1,2,4,3,6,2,6,2,7,2,75,0,4,5]"
   ]
  },
  {
   "cell_type": "code",
   "execution_count": 40,
   "id": "f875840d-e821-4c0f-881e-25e564356803",
   "metadata": {},
   "outputs": [],
   "source": [
    "from collections import Counter\n",
    "#mode, or most-common value[s]\n",
    "def mode(x):\n",
    " \"\"\"returns a list, might be more than one mode\"\"\"\n",
    " counts = Counter(x)\n",
    " max_count = max(counts.values())\n",
    " return [x_i for x_i, count in counts.items() if count == max_count]\n"
   ]
  },
  {
   "cell_type": "code",
   "execution_count": 41,
   "id": "6d030683-5f4e-4712-b576-7a4e02417dae",
   "metadata": {},
   "outputs": [
    {
     "data": {
      "text/plain": [
       "[2]"
      ]
     },
     "execution_count": 41,
     "metadata": {},
     "output_type": "execute_result"
    }
   ],
   "source": [
    "mode(y)"
   ]
  },
  {
   "cell_type": "markdown",
   "id": "ec0e1cc2-bc05-4981-a6d2-291ff8c293dc",
   "metadata": {},
   "source": [
    "## Dispersion\n",
    "Dispersion refers to measures of how spread out our data is. Typically they’re statistics\n",
    "for which values near zero signify not spread out at all and for which large values\n",
    "(whatever that means) signify very spread out"
   ]
  },
  {
   "cell_type": "code",
   "execution_count": 44,
   "id": "652450d5-ab2b-4050-8d2c-2ddefff31f9e",
   "metadata": {},
   "outputs": [],
   "source": [
    "def data_range(x):\n",
    " return max(x) - min(x)\n"
   ]
  },
  {
   "cell_type": "code",
   "execution_count": 45,
   "id": "be6950a8-4ac7-4e6c-a8de-c84d9879f54e",
   "metadata": {},
   "outputs": [
    {
     "data": {
      "text/plain": [
       "9"
      ]
     },
     "execution_count": 45,
     "metadata": {},
     "output_type": "execute_result"
    }
   ],
   "source": [
    "data_range(x)"
   ]
  },
  {
   "cell_type": "code",
   "execution_count": 46,
   "id": "27585073-7f1d-4a93-b143-3cec3905c512",
   "metadata": {},
   "outputs": [],
   "source": [
    "def de_mean(x):\n",
    " \"\"\"translate x by subtracting its mean (so the result has mean 0)\"\"\"\n",
    " x_bar = mean(x)\n",
    " return [x_i - x_bar for x_i in x]"
   ]
  },
  {
   "cell_type": "code",
   "execution_count": 47,
   "id": "26dedcea-2934-4191-b001-0f70a396f5d1",
   "metadata": {},
   "outputs": [
    {
     "data": {
      "text/plain": [
       "[-4.5, -3.5, -2.5, -1.5, -0.5, 0.5, 1.5, 2.5, 3.5, 4.5]"
      ]
     },
     "execution_count": 47,
     "metadata": {},
     "output_type": "execute_result"
    }
   ],
   "source": [
    "de_mean(x)"
   ]
  },
  {
   "cell_type": "code",
   "execution_count": 48,
   "id": "e7f302fe-1787-42a7-964e-485273ffa2f6",
   "metadata": {},
   "outputs": [
    {
     "data": {
      "text/plain": [
       "0.0"
      ]
     },
     "execution_count": 48,
     "metadata": {},
     "output_type": "execute_result"
    }
   ],
   "source": [
    "mean(de_mean(x))"
   ]
  },
  {
   "cell_type": "markdown",
   "id": "fa7b3c4c-5c8e-4fa0-918c-0fffc8ce9857",
   "metadata": {},
   "source": [
    "\n",
    "Variance is a statistical measure that quantifies the spread or dispersion of a set of data points. In simple terms, it tells us how much the data points differ from the mean (average) of the data set."
   ]
  },
  {
   "cell_type": "code",
   "execution_count": 51,
   "id": "edd929f8-727f-44d5-a016-96c98ced6264",
   "metadata": {},
   "outputs": [],
   "source": [
    "def sum_of_squares(x):\n",
    "    \"\"\"Returns the sum of squares of the elements in x.\"\"\"\n",
    "    return sum(xi ** 2 for xi in x)\n",
    "\n",
    "def variance(x):\n",
    "    \"\"\"Assumes x has at least two elements.\"\"\"\n",
    "    n = len(x)\n",
    "    deviations = de_mean(x)\n",
    "    return sum_of_squares(deviations) / (n - 1)"
   ]
  },
  {
   "cell_type": "code",
   "execution_count": 52,
   "id": "ded629d2-b5ea-4ac3-ae68-de11019e9dbf",
   "metadata": {},
   "outputs": [
    {
     "data": {
      "text/plain": [
       "9.166666666666666"
      ]
     },
     "execution_count": 52,
     "metadata": {},
     "output_type": "execute_result"
    }
   ],
   "source": [
    "variance(x)"
   ]
  },
  {
   "cell_type": "markdown",
   "id": "52e5d8cf-7aa8-41bb-b893-9c6d6156ccf1",
   "metadata": {},
   "source": [
    "Standard deviation is a statistical measure that indicates the amount of variation or dispersion in a set of data points. In simpler terms, it tells us how spread out the data points are around the mean (average) of the data set."
   ]
  },
  {
   "cell_type": "code",
   "execution_count": 55,
   "id": "1817f319-dcf0-44bc-a17e-b6ad8e7d6ce5",
   "metadata": {},
   "outputs": [],
   "source": [
    "import math\n",
    "def standard_deviation(x):\n",
    " return math.sqrt(variance(x))"
   ]
  },
  {
   "cell_type": "code",
   "execution_count": 56,
   "id": "a6856585-819d-4543-a578-c795491f284e",
   "metadata": {},
   "outputs": [
    {
     "data": {
      "text/plain": [
       "3.0276503540974917"
      ]
     },
     "execution_count": 56,
     "metadata": {},
     "output_type": "execute_result"
    }
   ],
   "source": [
    "standard_deviation(x)"
   ]
  },
  {
   "cell_type": "markdown",
   "id": "32bc276d-49fc-4e03-a28f-5f76829796e0",
   "metadata": {},
   "source": [
    "Covariance is a measure of how two random variables change together. If the greater values of one variable correspond to the greater values of another variable, and the same holds for the lesser values (i.e., both variables tend to move in the same direction), the covariance is positive. Conversely, if the greater values of one variable correspond to the lesser values of another variable (i.e., the variables tend to move in opposite directions), the covariance is negative.\r\n",
    "\r\n",
    "Covariance is calculated by taking the product of the deviations of each pair of corresponding values from their respective means and then averaging these produs change together."
   ]
  },
  {
   "cell_type": "code",
   "execution_count": 59,
   "id": "f1b71817-fca0-4dc3-9944-5efcb7f9a797",
   "metadata": {},
   "outputs": [],
   "source": [
    "def covariance(x, y):\n",
    "    \"\"\"Calculates the covariance between two lists of numbers.\"\"\"\n",
    "    n = len(x)\n",
    "    if n != len(y):\n",
    "        raise ValueError(\"x and y must have the same number of elements\")\n",
    "    return sum((xi - mean(x)) * (yi - mean(y)) for xi, yi in zip(x, y)) / (n - 1)\n"
   ]
  },
  {
   "cell_type": "code",
   "execution_count": 58,
   "id": "a694d1bd-9382-4153-88ea-43c23b4e1e98",
   "metadata": {},
   "outputs": [
    {
     "name": "stdout",
     "output_type": "stream",
     "text": [
      "Covariance: 250.0\n"
     ]
    }
   ],
   "source": [
    "# Example usage\n",
    "x = [10, 20, 30, 40, 50]\n",
    "y = [8, 18, 28, 38, 48]\n",
    "print(\"Covariance:\", covariance(x, y))"
   ]
  },
  {
   "cell_type": "markdown",
   "id": "fd30ac19-98f5-4c46-961e-47d174b0ffad",
   "metadata": {},
   "source": [
    "Correlation is a statistical measure that describes the strength and direction of a relationship between two variables. It quantifies how much one variable changes in relation to changes in another variable. The most common measure of correlation is the Pearson correlation coefficient, which ranges from -1 to 1.\r\n",
    "\r\n",
    "- **1** indicates a perfect positive correlation, meaning as one variable increases, the other variable also increases proportionally.\r\n",
    "- **-1** indicates a perfect negative correlation, meaning as one variable increases, the other variable decreases proportionally.\r\n",
    "- **0** indicates no correlation, meaning there is no linear relationship between the variab\n",
    "\n",
    "In simple terms, correlation is a measure of how two things move in relation to each other. If two things tend to increase or decrease together, they have a positive correlation. If one tends to increase when the other decreases, they have a negative correlation. If they don't seem to move together at all, their correlation is close to zero.\n",
    "\n",
    "Example:\n",
    "- Positive Correlation: Height and weight often have a positive correlation because as height increases, weight tends to increase too.\n",
    "- Negative Correlation: The amount of time spent watching TV and grades might have a negative correlation because more TV time might be associated with lower grades.\n",
    "- No Correlation: The number of books in a library and the temperature outside likely have no correlation because they don't affect each other.easure of the strength and direction of their linear relationship."
   ]
  },
  {
   "cell_type": "code",
   "execution_count": 61,
   "id": "6f8d0594-cf79-4f68-952f-cf31f3ef9663",
   "metadata": {},
   "outputs": [
    {
     "name": "stdout",
     "output_type": "stream",
     "text": [
      "Correlation: -0.9306124863271186\n"
     ]
    }
   ],
   "source": [
    "def correlation(x, y):\n",
    "    \"\"\"Calculates the Pearson correlation coefficient between two lists of numbers.\"\"\"\n",
    "    stdev_x = standard_deviation(x)\n",
    "    stdev_y = standard_deviation(y)\n",
    "    if stdev_x > 0 and stdev_y > 0:\n",
    "        return covariance(x, y) / (stdev_x * stdev_y)\n",
    "    else:\n",
    "        return 0  # If there is no variation, correlation is zero\n",
    "\n",
    "# Example usage\n",
    "x = [10, 20, 30, 40, 50]\n",
    "y = [100, 88, 77, 2, 1]\n",
    "print(\"Correlation:\", correlation(x, y))"
   ]
  },
  {
   "cell_type": "code",
   "execution_count": 63,
   "id": "7b3c44f1-65a8-431e-881e-ee8d46a5824f",
   "metadata": {},
   "outputs": [
    {
     "name": "stdout",
     "output_type": "stream",
     "text": [
      "Correlation: -0.035093120317179836\n"
     ]
    }
   ],
   "source": [
    "# Example usage\n",
    "books = [1000, 1500, 2000, 2500, 3000]\n",
    "temperature = [22, 15, 27, 18, 20]\n",
    "print(\"Correlation:\", correlation(books, temperature))"
   ]
  },
  {
   "cell_type": "code",
   "execution_count": null,
   "id": "c4272391-43c3-4b5d-b2a3-d13486102674",
   "metadata": {},
   "outputs": [],
   "source": []
  }
 ],
 "metadata": {
  "kernelspec": {
   "display_name": "Python 3 (ipykernel)",
   "language": "python",
   "name": "python3"
  },
  "language_info": {
   "codemirror_mode": {
    "name": "ipython",
    "version": 3
   },
   "file_extension": ".py",
   "mimetype": "text/x-python",
   "name": "python",
   "nbconvert_exporter": "python",
   "pygments_lexer": "ipython3",
   "version": "3.9.11"
  }
 },
 "nbformat": 4,
 "nbformat_minor": 5
}
