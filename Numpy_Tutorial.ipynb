{
 "cells": [
  {
   "cell_type": "markdown",
   "id": "5650f83c",
   "metadata": {},
   "source": [
    "# NumPy Tutorial"
   ]
  },
  {
   "cell_type": "markdown",
   "id": "fea93e78-a87f-478b-bfc2-eb1f268872c1",
   "metadata": {},
   "source": [
    "## NumPy Basics"
   ]
  },
  {
   "cell_type": "code",
   "execution_count": 2,
   "id": "9e54f4a6-8b53-4c09-bebc-daf397b957e3",
   "metadata": {},
   "outputs": [],
   "source": [
    "#importing Numpy Library\n",
    "import numpy as np"
   ]
  },
  {
   "cell_type": "code",
   "execution_count": 3,
   "id": "60b16083-05fa-4226-824a-9fe559e64d1c",
   "metadata": {},
   "outputs": [
    {
     "data": {
      "text/plain": [
       "array([1, 2, 3])"
      ]
     },
     "execution_count": 3,
     "metadata": {},
     "output_type": "execute_result"
    }
   ],
   "source": [
    "# Creating arrays\n",
    "array1 = np.array([1, 2, 3])\n",
    "array1"
   ]
  },
  {
   "cell_type": "code",
   "execution_count": 4,
   "id": "44ccf9fe-a665-437a-ab7a-d754f2052fed",
   "metadata": {},
   "outputs": [
    {
     "data": {
      "text/plain": [
       "array([0, 2, 4, 6, 8])"
      ]
     },
     "execution_count": 4,
     "metadata": {},
     "output_type": "execute_result"
    }
   ],
   "source": [
    "#creating array with in a range (start,stop,step)\n",
    "array2 = np.arange(0, 10, 2)\n",
    "array2"
   ]
  },
  {
   "cell_type": "code",
   "execution_count": 5,
   "id": "9f96401b-b594-4002-8fbe-cbdc6fa9291b",
   "metadata": {},
   "outputs": [
    {
     "data": {
      "text/plain": [
       "array([0.  , 0.25, 0.5 , 0.75, 1.  ])"
      ]
     },
     "execution_count": 5,
     "metadata": {},
     "output_type": "execute_result"
    }
   ],
   "source": [
    "#return evenly spaced numbers over a specified interval\n",
    "array3 = np.linspace(0, 1, 5)\n",
    "array3"
   ]
  },
  {
   "cell_type": "code",
   "execution_count": 6,
   "id": "f12b01a6-a085-4571-8b86-93ab474eb8ec",
   "metadata": {},
   "outputs": [
    {
     "data": {
      "text/plain": [
       "array([[0., 0., 0.],\n",
       "       [0., 0., 0.],\n",
       "       [0., 0., 0.]])"
      ]
     },
     "execution_count": 6,
     "metadata": {},
     "output_type": "execute_result"
    }
   ],
   "source": [
    "#return a new array of given shape and type, filled with zeros\n",
    "array4 = np.zeros((3, 3))\n",
    "array4"
   ]
  },
  {
   "cell_type": "code",
   "execution_count": 7,
   "id": "bc1df84c-73ab-456d-b4eb-b7e8f883eb13",
   "metadata": {},
   "outputs": [
    {
     "data": {
      "text/plain": [
       "array([[1., 1., 1.],\n",
       "       [1., 1., 1.],\n",
       "       [1., 1., 1.]])"
      ]
     },
     "execution_count": 7,
     "metadata": {},
     "output_type": "execute_result"
    }
   ],
   "source": [
    "#return a new array of given shape and type, filled with zeros\n",
    "array5 = np.ones((3, 3))\n",
    "array5"
   ]
  },
  {
   "cell_type": "code",
   "execution_count": 8,
   "id": "3a0a9751-5722-4926-9c09-db9ba5a51674",
   "metadata": {},
   "outputs": [
    {
     "data": {
      "text/plain": [
       "array([[7, 7, 7],\n",
       "       [7, 7, 7]])"
      ]
     },
     "execution_count": 8,
     "metadata": {},
     "output_type": "execute_result"
    }
   ],
   "source": [
    "#return a new array of given shape and type, filled with given values\n",
    "array6 = np.full((2, 3), 7)\n",
    "array6"
   ]
  },
  {
   "cell_type": "code",
   "execution_count": 14,
   "id": "84ac2ee7-b69a-452d-87f2-ae6d6c63976a",
   "metadata": {},
   "outputs": [
    {
     "name": "stdout",
     "output_type": "stream",
     "text": [
      "[1. 2. 3.]\n",
      "[1 2 3]\n"
     ]
    }
   ],
   "source": [
    "#return with datatypes\n",
    "array7 = np.array([1, 2, 3], dtype='float64')\n",
    "print(array7)\n",
    "array8 = array7.astype('int32')\n",
    "print(array8)"
   ]
  },
  {
   "cell_type": "markdown",
   "id": "bc566c6a-1bf1-4380-a47a-7262e09e5872",
   "metadata": {},
   "source": [
    "## Array Operations"
   ]
  },
  {
   "cell_type": "code",
   "execution_count": 15,
   "id": "d850db39-2124-40d4-b447-b77474831fb6",
   "metadata": {},
   "outputs": [
    {
     "data": {
      "text/plain": [
       "array([1, 4, 7])"
      ]
     },
     "execution_count": 15,
     "metadata": {},
     "output_type": "execute_result"
    }
   ],
   "source": [
    "#return the sum of two array which has same size\n",
    "array_sum = np.add(array1, array2[:3])\n",
    "array_sum"
   ]
  },
  {
   "cell_type": "code",
   "execution_count": 16,
   "id": "9a756eae-5d20-4283-8832-6f9de71322f5",
   "metadata": {},
   "outputs": [
    {
     "data": {
      "text/plain": [
       "array([ 1,  0, -1])"
      ]
     },
     "execution_count": 16,
     "metadata": {},
     "output_type": "execute_result"
    }
   ],
   "source": [
    "#return the difference of two array which has same size\n",
    "array_diff = np.subtract(array1, array2[:3])\n",
    "array_diff"
   ]
  },
  {
   "cell_type": "code",
   "execution_count": 17,
   "id": "e8b575aa-7118-400e-851c-a50f2ba122a5",
   "metadata": {},
   "outputs": [
    {
     "data": {
      "text/plain": [
       "array([ 0,  4, 12])"
      ]
     },
     "execution_count": 17,
     "metadata": {},
     "output_type": "execute_result"
    }
   ],
   "source": [
    "#return the product of two array which has same size\n",
    "array_prod = np.multiply(array1, array2[:3])\n",
    "array_prod"
   ]
  },
  {
   "cell_type": "code",
   "execution_count": 18,
   "id": "156d79b3-2336-4daf-8965-51fe804f3deb",
   "metadata": {},
   "outputs": [
    {
     "data": {
      "text/plain": [
       "array([0.        , 1.        , 1.33333333])"
      ]
     },
     "execution_count": 18,
     "metadata": {},
     "output_type": "execute_result"
    }
   ],
   "source": [
    "#made division of two array which has same size\n",
    "array_div = np.divide(array2[:3],array1)\n",
    "array_div"
   ]
  },
  {
   "cell_type": "code",
   "execution_count": 19,
   "id": "5bd9fb74-5b69-483f-8338-4a4801a25f74",
   "metadata": {},
   "outputs": [
    {
     "name": "stdout",
     "output_type": "stream",
     "text": [
      "[1.         1.41421356 1.73205081]\n",
      "3.0\n"
     ]
    }
   ],
   "source": [
    "#return the square root of array/value\n",
    "array_sqrt = np.sqrt(array1)\n",
    "print(array_sqrt)\n",
    "sqrt=np.sqrt(9)\n",
    "print(sqrt)"
   ]
  },
  {
   "cell_type": "code",
   "execution_count": 20,
   "id": "70d15e1e-e7bf-426e-9089-c5ed992dd99b",
   "metadata": {},
   "outputs": [
    {
     "data": {
      "text/plain": [
       "array([ 2.71828183,  7.3890561 , 20.08553692])"
      ]
     },
     "execution_count": 20,
     "metadata": {},
     "output_type": "execute_result"
    }
   ],
   "source": [
    "#Calculate the exponential of all elements in the input array\n",
    "array_exp = np.exp(array1)\n",
    "array_exp"
   ]
  },
  {
   "cell_type": "code",
   "execution_count": 21,
   "id": "82aca630-f463-4f97-a14c-f6b0c77cbc79",
   "metadata": {},
   "outputs": [
    {
     "data": {
      "text/plain": [
       "array([0.        , 0.69314718, 1.09861229])"
      ]
     },
     "execution_count": 21,
     "metadata": {},
     "output_type": "execute_result"
    }
   ],
   "source": [
    "#Calculate Natural logarithm, element-wise\n",
    "array_log = np.log(array1)\n",
    "array_log"
   ]
  },
  {
   "cell_type": "markdown",
   "id": "5d71b179-d96e-4915-99b1-d5424685ac02",
   "metadata": {},
   "source": [
    "## Indexing and Slicing"
   ]
  },
  {
   "cell_type": "code",
   "execution_count": 22,
   "id": "bcfbc6d9",
   "metadata": {},
   "outputs": [
    {
     "name": "stdout",
     "output_type": "stream",
     "text": [
      "1\n",
      "0.0\n",
      "[2 4 6]\n",
      "[2 3]\n",
      "[1 3]\n"
     ]
    }
   ],
   "source": [
    "#return element from 1d array based on index\n",
    "single_element = array1[0]\n",
    "print(single_element)\n",
    "\n",
    "#return element from multi dimensional array\n",
    "multi_dim_element = array4[1, 2]\n",
    "print(multi_dim_element)\n",
    "\n",
    "#slicing the array\n",
    "slice_array = array2[1:4]\n",
    "print(slice_array)\n",
    "\n",
    "#select elements from an array using a boolean condition\n",
    "boolean_indexing = array1[array1 > 1 ]\n",
    "print(boolean_indexing)\n",
    "\n",
    "#access multiple elements of an array at once using an array of indices\n",
    "fancy_indexing = array1[[0, 2]]\n",
    "print(fancy_indexing)"
   ]
  },
  {
   "cell_type": "markdown",
   "id": "55e77ff3-9bc0-4de5-9755-5bd4ef7ce249",
   "metadata": {},
   "source": [
    "## Array Shape Manipulation"
   ]
  },
  {
   "cell_type": "code",
   "execution_count": 23,
   "id": "62ea3491",
   "metadata": {},
   "outputs": [
    {
     "name": "stdout",
     "output_type": "stream",
     "text": [
      "[[0]\n",
      " [2]\n",
      " [4]\n",
      " [6]\n",
      " [8]]\n",
      "[0 2 4 6 8]\n",
      "[[0. 0. 0.]\n",
      " [0. 0. 0.]\n",
      " [0. 0. 0.]]\n",
      "[1 2 3 0 2 4]\n",
      "[[1 2 3]\n",
      " [0 2 4]]\n",
      "[1 2 3 0 2 4]\n",
      "[array([0, 2, 4]), array([6, 8])]\n"
     ]
    }
   ],
   "source": [
    "# Reshaping array2 into a 2x3 array\n",
    "reshaped_array = array2.reshape((5, 1))\n",
    "print(reshaped_array)\n",
    "\n",
    "# Flattening array2 into a 1D array\n",
    "flattened_array = array2.ravel()\n",
    "print(flattened_array)\n",
    "\n",
    "# Concatenating array1 and the first three elements of array2\n",
    "concatenated_array = np.concatenate((array1, array2[:3]))\n",
    "print(concatenated_array)\n",
    "\n",
    "# Stacking array1 and the first three elements of array2 vertically\n",
    "vstacked_array = np.vstack((array1, array2[:3]))\n",
    "print(vstacked_array)\n",
    "\n",
    "# Stacking array1 and the first three elements of array2 horizontally\n",
    "hstacked_array = np.hstack((array1, array2[:3]))\n",
    "print(hstacked_array)\n",
    "\n",
    "# Splitting array2 into 2 sub-arrays which allow unequal division\n",
    "split_array = np.array_split(array2, 2)\n",
    "print(split_array)"
   ]
  },
  {
   "cell_type": "markdown",
   "id": "72b5033a-c74e-4482-bace-72231c173f13",
   "metadata": {},
   "source": [
    "## Mathematical Functions"
   ]
  },
  {
   "cell_type": "code",
   "execution_count": 35,
   "id": "4f62826e",
   "metadata": {},
   "outputs": [
    {
     "name": "stdout",
     "output_type": "stream",
     "text": [
      "6\n",
      "[ 1  8 27]\n",
      "2.0\n",
      "0.816496580927726\n",
      "0.6666666666666666\n",
      "1\n",
      "3\n",
      "[2 3 4 5]\n",
      "[1. 3. 4. 5.]\n",
      "[2. 3. 4. 5.]\n",
      "[1. 2. 3. 4.]\n",
      "[1 3 6]\n",
      "[1 2 6]\n"
     ]
    }
   ],
   "source": [
    "# Sum of all elements in array1\n",
    "array_sum = np.sum(array1)\n",
    "print(array_sum)\n",
    "\n",
    "#Raises each element in an array to a specified power.\n",
    "power = 3\n",
    "powered_values = np.power(array1, power)\n",
    "print(powered_values)\n",
    "\n",
    "# Mean of all elements in array1\n",
    "array_mean = np.mean(array1)\n",
    "print(array_mean)\n",
    "\n",
    "# Standard deviation of all elements in array1\n",
    "array_std = np.std(array1)\n",
    "print(array_std)\n",
    "\n",
    "# Variance of all elements in array1\n",
    "array_var = np.var(array1)\n",
    "print(array_var)\n",
    "\n",
    "# Minimum value in array1\n",
    "array_min = np.min(array1)\n",
    "print(array_min)\n",
    "\n",
    "# Maximum value in array1\n",
    "array_max = np.max(array1)\n",
    "print(array_max)\n",
    "\n",
    "#Computes the absolute value of each element in an array.\n",
    "array_a = np.array([-2, 3, -4, 5])\n",
    "absolute_values = np.abs(array_a)\n",
    "print(absolute_values)\n",
    "\n",
    "#Rounds each element in an array to the nearest integer\n",
    "array_f = np.array([1.1, 2.9, 3.5, 4.8])\n",
    "rounded_values = np.round(array_f)\n",
    "print(rounded_values)\n",
    "\n",
    "#Rounds each element in an array to the nearest integer greater than or equal to it.\n",
    "ceil_values = np.ceil(array_f)\n",
    "print(ceil_values)\n",
    "\n",
    "#Rounds each element in an array to the nearest integer less than or equal to it.\n",
    "floor_values = np.floor(array_f)\n",
    "print(floor_values)\n",
    "\n",
    "# Cumulative sum of the elements in array1\n",
    "cumulative_sum = np.cumsum(array1)\n",
    "print(cumulative_sum)\n",
    "\n",
    "# Cumulative product of the elements in array1\n",
    "cumulative_prod = np.cumprod(array1)\n",
    "print(cumulative_prod)"
   ]
  },
  {
   "cell_type": "markdown",
   "id": "cd1db193-d4c3-4c33-a387-9530dee0c97e",
   "metadata": {},
   "source": [
    "## Linear Algebra"
   ]
  },
  {
   "cell_type": "code",
   "execution_count": 25,
   "id": "d877a5e2-475b-4d13-991e-0f59b8eb6ad2",
   "metadata": {},
   "outputs": [
    {
     "data": {
      "text/plain": [
       "array([[1., 0., 0.],\n",
       "       [0., 2., 0.],\n",
       "       [0., 0., 3.]])"
      ]
     },
     "execution_count": 25,
     "metadata": {},
     "output_type": "execute_result"
    }
   ],
   "source": [
    "#Modifying array4\n",
    "array4[0, 0] = 1\n",
    "array4[1, 1] = 2\n",
    "array4[2, 2] = 3\n",
    "array4"
   ]
  },
  {
   "cell_type": "code",
   "execution_count": 32,
   "id": "46567f06",
   "metadata": {},
   "outputs": [
    {
     "name": "stdout",
     "output_type": "stream",
     "text": [
      "16\n",
      "[[1. 0. 0.]\n",
      " [0. 4. 0.]\n",
      " [0. 0. 9.]]\n",
      "[[1.         0.         0.        ]\n",
      " [0.         0.5        0.        ]\n",
      " [0.         0.         0.33333333]]\n",
      "6.0\n",
      "[1. 2. 3.]\n",
      "[[1. 0. 0.]\n",
      " [0. 1. 0.]\n",
      " [0. 0. 1.]]\n",
      "[[1 4 7]\n",
      " [2 5 8]\n",
      " [3 6 9]]\n",
      "[[1 4 7]\n",
      " [2 5 8]\n",
      " [3 6 9]]\n",
      "[[1. 0. 0. 0.]\n",
      " [0. 1. 0. 0.]\n",
      " [0. 0. 1. 0.]\n",
      " [0. 0. 0. 1.]]\n"
     ]
    }
   ],
   "source": [
    "\n",
    "# Dot product of array1 and the first three elements of array2\n",
    "dot_product = np.dot(array1, array2[:3])\n",
    "print(dot_product)\n",
    "\n",
    "# Matrix product of the first 3x3 sub-array of array4 with itself\n",
    "matrix_product = np.matmul(array4, array4)\n",
    "print(matrix_product)\n",
    "\n",
    "# Inverse of the first 3x3 sub-array of array4\n",
    "inverse_matrix = np.linalg.inv(array4)\n",
    "print(inverse_matrix)\n",
    "\n",
    "# Determinant of the first 3x3 sub-array of array4\n",
    "determinant = np.linalg.det(array4)\n",
    "print(determinant)\n",
    "\n",
    "# Eigenvalues and eigenvectors of the first 3x3 sub-array of array4\n",
    "eigenvalues, eigenvectors = np.linalg.eig(array4)\n",
    "print(eigenvalues)\n",
    "print(eigenvectors)\n",
    "\n",
    "# Transposing the array (flipping rows and columns)\n",
    "array_t=np.array([[1,2,3],[4,5,6],[7,8,9]])\n",
    "transposed_array = array_t.T\n",
    "print(transposed_array)\n",
    "#or\n",
    "transposed_array1=np.transpose(array_t)\n",
    "print(transposed_array1)\n",
    "\n",
    "# Create a 4x4 identity matrix\n",
    "identity_matrix = np.identity(4)\n",
    "print(identity_matrix)"
   ]
  },
  {
   "cell_type": "markdown",
   "id": "9be44d48-3b3b-44b9-b9ef-a06f434c5845",
   "metadata": {},
   "source": [
    "## Random Number Generation"
   ]
  },
  {
   "cell_type": "code",
   "execution_count": 144,
   "id": "6e323637",
   "metadata": {},
   "outputs": [
    {
     "name": "stdout",
     "output_type": "stream",
     "text": [
      "[[0.76901216 0.88471869 0.87100498]\n",
      " [0.14647096 0.78918879 0.90922225]\n",
      " [0.83817055 0.71203119 0.30737942]]\n",
      "[[4 0 9]\n",
      " [1 5 8]\n",
      " [7 7 5]]\n",
      "[3 1 2]\n",
      "[6 8 2 0 4]\n",
      "[[0.77132064 0.02075195 0.63364823]\n",
      " [0.74880388 0.49850701 0.22479665]\n",
      " [0.19806286 0.76053071 0.16911084]]\n",
      "[[8 6 4]\n",
      " [3 0 4]\n",
      " [6 8 1]]\n",
      "[1 1 3]\n"
     ]
    }
   ],
   "source": [
    "# Generate a 3x3 array of random floats between 0 and 1\n",
    "random_array = np.random.rand(3, 3)\n",
    "print(random_array)\n",
    "\n",
    "# Generate a 3x3 array of random integers between 0 and 10\n",
    "random_int_array = np.random.randint(0, 10, (3, 3))\n",
    "print(random_int_array)\n",
    "\n",
    "# Randomly choose 3 elements from array1\n",
    "array1 = np.array([1, 2, 3])\n",
    "random_choice = np.random.choice(array1, size=3)\n",
    "print(random_choice)\n",
    "\n",
    "# Shuffle array2 in place\n",
    "array2 = np.arange(0, 10, 2)\n",
    "np.random.shuffle(array2)\n",
    "print(array2)\n",
    "\n",
    "# Set the random seed to 0 for reproducibility\n",
    "np.random.seed(10)\n",
    "\n",
    "# Re-generate the random arrays to show the effect of setting the seed\n",
    "random_array_seeded = np.random.rand(3, 3)\n",
    "print(random_array_seeded)\n",
    "\n",
    "random_int_array_seeded = np.random.randint(0, 10, (3, 3))\n",
    "print(random_int_array_seeded)\n",
    "\n",
    "random_choice_seeded = np.random.choice(array1, size=3)\n",
    "print(random_choice_seeded)"
   ]
  },
  {
   "cell_type": "markdown",
   "id": "a46c2265-4ace-4d3d-a993-33556e962e08",
   "metadata": {},
   "source": [
    "## Statistical Functions"
   ]
  },
  {
   "cell_type": "code",
   "execution_count": 146,
   "id": "bf0dd630",
   "metadata": {},
   "outputs": [
    {
     "name": "stdout",
     "output_type": "stream",
     "text": [
      "2.0\n",
      "2.0\n",
      "0.816496580927726\n",
      "0.6666666666666666\n",
      "[[ 1.         -0.65465367]\n",
      " [-0.65465367  1.        ]]\n",
      "[[ 1.         -2.        ]\n",
      " [-2.          9.33333333]]\n"
     ]
    }
   ],
   "source": [
    "# Mean of all elements in array1\n",
    "array_mean = np.mean(array1)\n",
    "print(array_mean)\n",
    "\n",
    "# Median of all elements in array1\n",
    "array_median = np.median(array1)\n",
    "print(array_median)\n",
    "\n",
    "# Standard deviation of all elements in array1\n",
    "array_std = np.std(array1)\n",
    "print(array_std)\n",
    "\n",
    "# Variance of all elements in array1\n",
    "array_var = np.var(array1)\n",
    "print(array_var)\n",
    "\n",
    "# Correlation coefficient matrix between array1 and the first three elements of array2\n",
    "correlation_matrix = np.corrcoef(array1, array2[:3])\n",
    "print(correlation_matrix)\n",
    "\n",
    "# Covariance matrix between array1 and the first three elements of array2\n",
    "covariance_matrix = np.cov(array1, array2[:3])\n",
    "print(covariance_matrix)\n"
   ]
  },
  {
   "cell_type": "markdown",
   "id": "05cffb04-b21a-45ad-81f8-664d81a0de15",
   "metadata": {},
   "source": [
    "## Sorting and Searching"
   ]
  },
  {
   "cell_type": "code",
   "execution_count": 153,
   "id": "912e9dfd",
   "metadata": {},
   "outputs": [
    {
     "name": "stdout",
     "output_type": "stream",
     "text": [
      "[0 2 4 6 8]\n",
      "[3 2 4 0 1]\n",
      "(array([1, 2], dtype=int64),)\n",
      "(array([0, 1, 2], dtype=int64),)\n",
      "2\n",
      "0\n"
     ]
    }
   ],
   "source": [
    "# Sorting array2\n",
    "sorted_array = np.sort(array2)\n",
    "print(sorted_array)\n",
    "\n",
    "# Original Indices of the sorted elements in array2\n",
    "argsorted_indices = np.argsort(array2)\n",
    "print(argsorted_indices)\n",
    "\n",
    "# Indices where the condition array1 > 1 is True\n",
    "where_indices = np.where(array1 > 1)\n",
    "print(where_indices)\n",
    "\n",
    "# Indices of non-zero elements in array1\n",
    "nonzero_indices = np.nonzero(array1)\n",
    "print(nonzero_indices)\n",
    "\n",
    "# Index of the maximum element in array1\n",
    "max_index = np.argmax(array1)\n",
    "print(max_index)\n",
    "\n",
    "# Index of the minimum element in array1\n",
    "min_index = np.argmin(array1)\n",
    "print(min_index)"
   ]
  }
 ],
 "metadata": {
  "kernelspec": {
   "display_name": "Python 3 (ipykernel)",
   "language": "python",
   "name": "python3"
  },
  "language_info": {
   "codemirror_mode": {
    "name": "ipython",
    "version": 3
   },
   "file_extension": ".py",
   "mimetype": "text/x-python",
   "name": "python",
   "nbconvert_exporter": "python",
   "pygments_lexer": "ipython3",
   "version": "3.9.11"
  }
 },
 "nbformat": 4,
 "nbformat_minor": 5
}
